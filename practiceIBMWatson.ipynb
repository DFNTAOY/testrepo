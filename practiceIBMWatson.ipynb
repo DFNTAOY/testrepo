{
    "cells": [
        {
            "metadata": {},
            "cell_type": "markdown",
            "source": "# Data Analysis of Iris Dataset\n> This is a quick approach to understanding IBM Watson Jupyter Notebook Interface\n\n1. For proper Data Input\n1. Data Exploratory Analysis\n1. Data Visualiation and so on..."
        },
        {
            "metadata": {},
            "cell_type": "code",
            "source": "\nimport types\nimport pandas as pd\nfrom botocore.client import Config\nimport ibm_boto3\n\ndef __iter__(self): return 0\n\n# @hidden_cell\n# The following code accesses a file in your IBM Cloud Object Storage. It includes your credentials.\n# You might want to remove those credentials before you share the notebook.\nclient_fc3993075e174fa9a42a1753d8396591 = ibm_boto3.client(service_name='s3',\n    ibm_api_key_id='PsrVIybBsLxH_XKVBjsXAywDrhVRhQy3B3Ho7uFYzTwN',\n    ibm_auth_endpoint=\"https://iam.cloud.ibm.com/oidc/token\",\n    config=Config(signature_version='oauth'),\n    endpoint_url='https://s3-api.us-geo.objectstorage.service.networklayer.com')\n\nbody = client_fc3993075e174fa9a42a1753d8396591.get_object(Bucket='firstproject-donotdelete-pr-dhiuvp398ttkep',Key='iris.csv')['Body']\n# add missing __iter__ method, so pandas accepts body as file-like object\nif not hasattr(body, \"__iter__\"): body.__iter__ = types.MethodType( __iter__, body )\n\ndf = pd.read_csv(body)\ndf.head()\n",
            "execution_count": 5,
            "outputs": [
                {
                    "output_type": "execute_result",
                    "execution_count": 5,
                    "data": {
                        "text/plain": "   5.1\\t3.5\\t1.4\\t0.2\\tIris-setosa\n0  4.9\\t3.0\\t1.4\\t0.2\\tIris-setosa\n1  4.7\\t3.2\\t1.3\\t0.2\\tIris-setosa\n2  4.6\\t3.1\\t1.5\\t0.2\\tIris-setosa\n3  5.0\\t3.6\\t1.4\\t0.2\\tIris-setosa\n4  5.4\\t3.9\\t1.7\\t0.4\\tIris-setosa",
                        "text/html": "<div>\n<style scoped>\n    .dataframe tbody tr th:only-of-type {\n        vertical-align: middle;\n    }\n\n    .dataframe tbody tr th {\n        vertical-align: top;\n    }\n\n    .dataframe thead th {\n        text-align: right;\n    }\n</style>\n<table border=\"1\" class=\"dataframe\">\n  <thead>\n    <tr style=\"text-align: right;\">\n      <th></th>\n      <th>5.1\t3.5\t1.4\t0.2\tIris-setosa</th>\n    </tr>\n  </thead>\n  <tbody>\n    <tr>\n      <th>0</th>\n      <td>4.9\\t3.0\\t1.4\\t0.2\\tIris-setosa</td>\n    </tr>\n    <tr>\n      <th>1</th>\n      <td>4.7\\t3.2\\t1.3\\t0.2\\tIris-setosa</td>\n    </tr>\n    <tr>\n      <th>2</th>\n      <td>4.6\\t3.1\\t1.5\\t0.2\\tIris-setosa</td>\n    </tr>\n    <tr>\n      <th>3</th>\n      <td>5.0\\t3.6\\t1.4\\t0.2\\tIris-setosa</td>\n    </tr>\n    <tr>\n      <th>4</th>\n      <td>5.4\\t3.9\\t1.7\\t0.4\\tIris-setosa</td>\n    </tr>\n  </tbody>\n</table>\n</div>"
                    },
                    "metadata": {}
                }
            ]
        },
        {
            "metadata": {},
            "cell_type": "code",
            "source": "type(df)",
            "execution_count": 6,
            "outputs": [
                {
                    "output_type": "execute_result",
                    "execution_count": 6,
                    "data": {
                        "text/plain": "pandas.core.frame.DataFrame"
                    },
                    "metadata": {}
                }
            ]
        },
        {
            "metadata": {},
            "cell_type": "code",
            "source": "",
            "execution_count": null,
            "outputs": []
        }
    ],
    "metadata": {
        "kernelspec": {
            "name": "python3",
            "display_name": "Python 3.6",
            "language": "python"
        },
        "language_info": {
            "name": "python",
            "version": "3.6.9",
            "mimetype": "text/x-python",
            "codemirror_mode": {
                "name": "ipython",
                "version": 3
            },
            "pygments_lexer": "ipython3",
            "nbconvert_exporter": "python",
            "file_extension": ".py"
        }
    },
    "nbformat": 4,
    "nbformat_minor": 1
}